{
 "cells": [
  {
   "cell_type": "code",
   "execution_count": 175,
   "metadata": {},
   "outputs": [],
   "source": [
    "import pandas as pd\n",
    "from math import sqrt\n",
    "import matplotlib.pylab as plt\n",
    "import random\n",
    "from math import floor\n",
    "import copy"
   ]
  },
  {
   "cell_type": "code",
   "execution_count": 92,
   "metadata": {},
   "outputs": [
    {
     "data": {
      "text/html": [
       "<div>\n",
       "<style scoped>\n",
       "    .dataframe tbody tr th:only-of-type {\n",
       "        vertical-align: middle;\n",
       "    }\n",
       "\n",
       "    .dataframe tbody tr th {\n",
       "        vertical-align: top;\n",
       "    }\n",
       "\n",
       "    .dataframe thead th {\n",
       "        text-align: right;\n",
       "    }\n",
       "</style>\n",
       "<table border=\"1\" class=\"dataframe\">\n",
       "  <thead>\n",
       "    <tr style=\"text-align: right;\">\n",
       "      <th></th>\n",
       "      <th>sepal_length</th>\n",
       "      <th>sepal_width</th>\n",
       "      <th>petal_length</th>\n",
       "      <th>petal_width</th>\n",
       "      <th>type</th>\n",
       "    </tr>\n",
       "  </thead>\n",
       "  <tbody>\n",
       "    <tr>\n",
       "      <th>0</th>\n",
       "      <td>5.1</td>\n",
       "      <td>3.5</td>\n",
       "      <td>1.4</td>\n",
       "      <td>0.2</td>\n",
       "      <td>0</td>\n",
       "    </tr>\n",
       "    <tr>\n",
       "      <th>1</th>\n",
       "      <td>4.9</td>\n",
       "      <td>3.0</td>\n",
       "      <td>1.4</td>\n",
       "      <td>0.2</td>\n",
       "      <td>0</td>\n",
       "    </tr>\n",
       "    <tr>\n",
       "      <th>2</th>\n",
       "      <td>4.7</td>\n",
       "      <td>3.2</td>\n",
       "      <td>1.3</td>\n",
       "      <td>0.2</td>\n",
       "      <td>0</td>\n",
       "    </tr>\n",
       "    <tr>\n",
       "      <th>3</th>\n",
       "      <td>4.6</td>\n",
       "      <td>3.1</td>\n",
       "      <td>1.5</td>\n",
       "      <td>0.2</td>\n",
       "      <td>0</td>\n",
       "    </tr>\n",
       "    <tr>\n",
       "      <th>4</th>\n",
       "      <td>5.0</td>\n",
       "      <td>3.6</td>\n",
       "      <td>1.4</td>\n",
       "      <td>0.2</td>\n",
       "      <td>0</td>\n",
       "    </tr>\n",
       "  </tbody>\n",
       "</table>\n",
       "</div>"
      ],
      "text/plain": [
       "   sepal_length  sepal_width  petal_length  petal_width  type\n",
       "0           5.1          3.5           1.4          0.2     0\n",
       "1           4.9          3.0           1.4          0.2     0\n",
       "2           4.7          3.2           1.3          0.2     0\n",
       "3           4.6          3.1           1.5          0.2     0\n",
       "4           5.0          3.6           1.4          0.2     0"
      ]
     },
     "execution_count": 92,
     "metadata": {},
     "output_type": "execute_result"
    }
   ],
   "source": [
    "col=['sepal_length','sepal_width','petal_length','petal_width','type']\n",
    "data = pd.read_csv('iris.data', sep=\",\",names=col)\n",
    "iris = pd.read_csv('iris.data', sep=\",\",names=col)\n",
    "val_1 = iris[\"type\"].unique()[0]\n",
    "val_2 = iris[\"type\"].unique()[1]\n",
    "val_3 = iris[\"type\"].unique()[2]\n",
    "\n",
    "iris[\"type\"] = iris[\"type\"].map({val_1 :0, val_2 :1 , val_3:2})\n",
    "iris.head()"
   ]
  },
  {
   "cell_type": "code",
   "execution_count": 97,
   "metadata": {},
   "outputs": [],
   "source": [
    "def euclidean_distance(x, y):\n",
    "\n",
    "    distance = 0\n",
    "    for xi, yi in zip(x, y):\n",
    "        distance += (xi-yi) ** 2\n",
    "\n",
    "    return sqrt(distance)"
   ]
  },
  {
   "cell_type": "code",
   "execution_count": 98,
   "metadata": {},
   "outputs": [],
   "source": [
    "def KNN(distanceFunction, k, dataSet, instance):\n",
    "\n",
    "    point_dis = []\n",
    "\n",
    "\n",
    "    for point in dataSet:\n",
    "\n",
    "\n",
    "        dis = distanceFunction(instance, point[0:-1])\n",
    "\n",
    "        point_dis.append([point, dis])\n",
    "\n",
    "    point_dis = sorted(point_dis, key=lambda p: p[1])\n",
    "\n",
    "    point_dis = point_dis[0:k]\n",
    "\n",
    "    knnPoints = []\n",
    "    for point in point_dis:\n",
    "        knnPoints.append(point[0])\n",
    "\n",
    "\n",
    "    label_occurrence = {}\n",
    "    for point in knnPoints:\n",
    "        if point[len(point)-1] not in label_occurrence:\n",
    "            label_occurrence[point[len(point)-1]] = 1\n",
    "        else:\n",
    "            label_occurrence[point[len(point)-1]] += 1\n",
    "\n",
    "    labels = sorted(list(label_occurrence.items()),\n",
    "                    key=lambda key_num: key_num[1],\n",
    "                    reverse=True)\n",
    "    return labels[0][0]\n"
   ]
  },
  {
   "cell_type": "code",
   "execution_count": 99,
   "metadata": {},
   "outputs": [],
   "source": [
    "def cross_validation(learningFunction, argumentOFLearningFunction, dS):\n",
    "\n",
    "\n",
    "    averageError = 0\n",
    "\n",
    "    foldsize = floor(len(dataSet)/10)\n",
    "\n",
    "    folds=[]\n",
    "\n",
    "    for fold in range(9):\n",
    "         folds.append(dataSet[fold*foldsize:(fold+1)*foldsize])\n",
    "    folds.append(dataSet[(10-1) * foldsize::])\n",
    "\n",
    "    for index1, i in enumerate(folds):\n",
    "\n",
    "        test = copy.deepcopy(i)\n",
    "        train = []\n",
    "        for index2, j in enumerate(folds):\n",
    "            if index2 != index1:\n",
    "                train = train + copy.deepcopy(j)\n",
    "\n",
    "        foldError=0\n",
    "        for point in test:\n",
    "\n",
    "            argumentOFLearningFunction['instance'] = copy.deepcopy(point[0:-1])\n",
    "\n",
    "            argumentOFLearningFunction['dataSet'] = copy.deepcopy(train)\n",
    "\n",
    "            label = learningFunction(**argumentOFLearningFunction)\n",
    "\n",
    "            if label != point[len(point)-1]:\n",
    "                foldError += 1\n",
    "\n",
    "        averageError += foldError/len(test)\n",
    "\n",
    "    averageError /= 10\n",
    "\n",
    "    return averageError\n"
   ]
  },
  {
   "cell_type": "code",
   "execution_count": 174,
   "metadata": {
    "scrolled": true
   },
   "outputs": [
    {
     "name": "stdout",
     "output_type": "stream",
     "text": [
      "Part A:\n",
      "K=1, \tError=0.04\n",
      "K=2, \tError=0.04\n",
      "K=3, \tError=0.05333333333333333\n",
      "K=4, \tError=0.04666666666666667\n",
      "K=5, \tError=0.06666666666666668\n",
      "K=6, \tError=0.05333333333333333\n",
      "K=7, \tError=0.06666666666666668\n",
      "K=8, \tError=0.05333333333333333\n",
      "K=9, \tError=0.06666666666666667\n",
      "K=10, \tError=0.06\n",
      "K=11, \tError=0.06666666666666668\n",
      "K=12, \tError=0.06\n",
      "K=13, \tError=0.06\n",
      "K=14, \tError=0.06666666666666667\n",
      "K=15, \tError=0.07333333333333333\n",
      "K=16, \tError=0.06666666666666667\n",
      "K=17, \tError=0.07333333333333333\n",
      "K=18, \tError=0.08\n",
      "K=19, \tError=0.07333333333333333\n",
      "K=20, \tError=0.06666666666666668\n",
      "K=21, \tError=0.08\n",
      "K=22, \tError=0.08666666666666667\n",
      "K=23, \tError=0.07333333333333333\n",
      "K=24, \tError=0.08666666666666667\n",
      "K=25, \tError=0.08666666666666667\n",
      "K=26, \tError=0.08666666666666667\n",
      "K=27, \tError=0.09333333333333334\n",
      "K=28, \tError=0.08666666666666667\n",
      "K=29, \tError=0.09333333333333334\n",
      "K=30, \tError=0.1\n",
      "K=31, \tError=0.1\n"
     ]
    },
    {
     "data": {
      "text/plain": [
       "Text(0.5, 0, 'K')"
      ]
     },
     "execution_count": 174,
     "metadata": {},
     "output_type": "execute_result"
    },
    {
     "data": {
      "image/png": "[encoded data removed]",
      "text/plain": [
       "<Figure size 432x288 with 1 Axes>"
      ]
     },
     "metadata": {
      "needs_background": "light"
     },
     "output_type": "display_data"
    }
   ],
   "source": [
    "dataSet = []\n",
    "\n",
    "for index, rows in iris.iterrows():\n",
    "    my_list =[rows.sepal_length, rows.sepal_width, rows.petal_length,rows.petal_width,rows.type]\n",
    "    dataSet.append(my_list)\n",
    "\n",
    "\n",
    "errors = []\n",
    "differentK=[]\n",
    "\n",
    "for k in range(1,32):\n",
    "    differentK.append(k)\n",
    "    \n",
    "for k in differentK:\n",
    "    ten_fold_cv_error = \\\n",
    "           cross_validation(learningFunction=KNN,\n",
    "                                  argumentOFLearningFunction={'distanceFunction': euclidean_distance,\n",
    "                                                              'k': k,\n",
    "                                                              'dataSet': [],\n",
    "                                                              'instance': []},\n",
    "                                  dS=dataSet\n",
    "                                  )\n",
    "\n",
    "    errors.append(ten_fold_cv_error)\n",
    "\n",
    "\n",
    "print(\"Part A:\")\n",
    "for i in zip(differentK, errors):\n",
    "    print('K={}, \\tError={}'.format(i[0], i[1]))\n",
    "\n",
    "\n",
    "plt.plot(differentK, errors)\n",
    "plt.xlabel('K')\n"
   ]
  },
  {
   "cell_type": "code",
   "execution_count": 118,
   "metadata": {},
   "outputs": [
    {
     "data": {
      "text/plain": [
       "0.0003225806451612904"
      ]
     },
     "execution_count": 118,
     "metadata": {},
     "output_type": "execute_result"
    }
   ],
   "source": [
    "for i in errors:\n",
    "    m = 0 \n",
    "    m += i**2\n",
    "mse = m/len(errors)\n",
    "mse"
   ]
  },
  {
   "cell_type": "code",
   "execution_count": 119,
   "metadata": {},
   "outputs": [
    {
     "data": {
      "text/plain": [
       "0.01796053020267749"
      ]
     },
     "execution_count": 119,
     "metadata": {},
     "output_type": "execute_result"
    }
   ],
   "source": [
    "rmse = math.sqrt(mse)\n",
    "rmse"
   ]
  },
  {
   "cell_type": "code",
   "execution_count": 120,
   "metadata": {},
   "outputs": [
    {
     "data": {
      "text/plain": [
       "0.0032258064516129032"
      ]
     },
     "execution_count": 120,
     "metadata": {},
     "output_type": "execute_result"
    }
   ],
   "source": [
    "for i in errors:\n",
    "    m = 0 \n",
    "    m += abs(i)\n",
    "mae = m / len(errors)\n",
    "mae"
   ]
  }
 ],
 "metadata": {
  "kernelspec": {
   "display_name": "Python 3",
   "language": "python",
   "name": "python3"
  },
  "language_info": {
   "codemirror_mode": {
    "name": "ipython",
    "version": 3
   },
   "file_extension": ".py",
   "mimetype": "text/x-python",
   "name": "python",
   "nbconvert_exporter": "python",
   "pygments_lexer": "ipython3",
   "version": "3.8.8"
  }
 },
 "nbformat": 4,
 "nbformat_minor": 4
}
